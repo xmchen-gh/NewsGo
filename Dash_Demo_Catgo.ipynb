{
 "cells": [
  {
   "cell_type": "code",
   "execution_count": 1,
   "metadata": {
    "collapsed": true
   },
   "outputs": [],
   "source": [
    "import plotly.express as px\n",
    "from jupyter_dash import JupyterDash\n",
    "import dash_core_components as dcc\n",
    "import dash_html_components as html\n",
    "from dash.dependencies import Input, Output\n",
    "import pandas as pd\n",
    "import plotly.graph_objects as go\n",
    "import psycopg2\n",
    "\n",
    "%matplotlib inline"
   ]
  },
  {
   "cell_type": "code",
   "execution_count": null,
   "metadata": {
    "collapsed": true
   },
   "outputs": [],
   "source": []
  },
  {
   "cell_type": "code",
   "execution_count": 3,
   "metadata": {
    "collapsed": true
   },
   "outputs": [],
   "source": [
    "def df_from_db(query):\n",
    "    \n",
    "    conn = psycopg2.connect(dbname='***', user='***', password='*********')\n",
    "    cur = conn.cursor()\n",
    "    cur.execute(query)\n",
    "    rows = cur.fetchall()\n",
    "    col_names = [i[0] for i in cur.description]\n",
    "    df = pd.DataFrame(rows, columns=col_names)\n",
    "    conn.commit()\n",
    "    cur.close()\n",
    "    conn.close()\n",
    "\n",
    "    return df\n"
   ]
  },
  {
   "cell_type": "markdown",
   "metadata": {},
   "source": [
    "## animation with date data"
   ]
  },
  {
   "cell_type": "code",
   "execution_count": 71,
   "metadata": {},
   "outputs": [
    {
     "name": "stdout",
     "output_type": "stream",
     "text": [
      "Dash app running on http://0.0.0.0:8050/\n"
     ]
    }
   ],
   "source": [
    "# Build App\n",
    "app = JupyterDash(__name__)\n",
    "app.layout = html.Div([\n",
    "    html.H1(\"Twitter Geolocation Dashboard\"),\n",
    "    dcc.Graph(id = 'graph'),\n",
    "    html.Label([\n",
    "        \"Date\",\n",
    "        dcc.Dropdown(\n",
    "            id='time-dropdown', \n",
    "            options=[\n",
    "            {'label': 'Dec 30', 'value': '0'},\n",
    "            {'label': 'Dec 31', 'value': '1'},\n",
    "            {'label': 'Jan 01', 'value': '2'}],\n",
    "            value = '0'\n",
    "        ),\n",
    "    ]),\n",
    "])\n",
    "# Define callback to update graph\n",
    "@app.callback(\n",
    "    Output('graph', 'figure'),\n",
    "    [Input(\"time-dropdown\", \"value\")]\n",
    ")\n",
    "def update_figure(value):\n",
    "    #only processing one hour here\n",
    "    df_day = pd.DataFrame()\n",
    "    for five_min in range(12):\n",
    "        union = \" union \".join([f\"select * from timenpl_01_{idx+5*five_min}\" for idx in range(5)])\n",
    "        df = df_from_db(f\"\"\"with timenpl as ({union}) select coord_lat::numeric(10,2) * 0 + 5* {five_min} as \"time\", count(coord_lat) as weight, coord_lat::numeric(10,2), coord_lon::numeric(10,2), STRING_AGG(loc, '<br>') as loc , STRING_AGG(\"text\", '<br>') as text, STRING_AGG(\"url\", '<br>') as url from timenpl group by coord_lat::numeric(10,2), coord_lon::numeric(10,2);\"\"\")\n",
    "        df_day = df_day.append(df)\n",
    "\n",
    "    df_day['coord_lat'] = df_day['coord_lat'].astype('float64')\n",
    "    df_day['coord_lon'] = df_day['coord_lon'].astype('float64')\n",
    "    df_day['time'] = df_day['time'].astype('float64')\n",
    "\n",
    "    token = \"*********\"\n",
    "    fig = px.scatter_mapbox(df_day, lat=\"coord_lat\", lon=\"coord_lon\", hover_name=\"loc\", hover_data=[\"text\", \"url\"],animation_frame = 'time', zoom=1, height=600,\n",
    "                        color_discrete_sequence=[\"green\"], size= 'weight', color_continuous_scale=px.colors.cyclical.IceFire, size_max=25)\n",
    "\n",
    "\n",
    "    fig.update_layout(mapbox_accesstoken=token)\n",
    "    fig.update_layout(margin={\"r\":0,\"t\":0,\"l\":0,\"b\":0})\n",
    "\n",
    "    return fig\n",
    "\n",
    "# Run app and display result inline in the notebook\n",
    "app.run_server(host='0.0.0.0',debug=True)"
   ]
  },
  {
   "cell_type": "code",
   "execution_count": null,
   "metadata": {
    "collapsed": true
   },
   "outputs": [],
   "source": []
  },
  {
   "cell_type": "code",
   "execution_count": null,
   "metadata": {
    "collapsed": true
   },
   "outputs": [],
   "source": []
  }
 ],
 "metadata": {
  "kernelspec": {
   "display_name": "Python 3",
   "language": "python",
   "name": "python3"
  },
  "language_info": {
   "codemirror_mode": {
    "name": "ipython",
    "version": 3
   },
   "file_extension": ".py",
   "mimetype": "text/x-python",
   "name": "python",
   "nbconvert_exporter": "python",
   "pygments_lexer": "ipython3",
   "version": "3.6.2"
  }
 },
 "nbformat": 4,
 "nbformat_minor": 4
}
